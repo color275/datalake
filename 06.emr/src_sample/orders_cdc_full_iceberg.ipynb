{
 "cells": [
  {
   "cell_type": "code",
   "execution_count": 10,
   "id": "06939dac-f669-4f20-acbd-2eab35b4fecc",
   "metadata": {
    "execution": {
     "iopub.execute_input": "2024-04-30T08:09:42.295993Z",
     "iopub.status.busy": "2024-04-30T08:09:42.295764Z",
     "iopub.status.idle": "2024-04-30T08:09:47.588505Z",
     "shell.execute_reply": "2024-04-30T08:09:47.587791Z",
     "shell.execute_reply.started": "2024-04-30T08:09:42.295968Z"
    },
    "tags": []
   },
   "outputs": [
    {
     "data": {
      "application/vnd.jupyter.widget-view+json": {
       "model_id": "267636c0eaf141ac97b43f2ef01d183c",
       "version_major": 2,
       "version_minor": 0
      },
      "text/plain": [
       "VBox()"
      ]
     },
     "metadata": {},
     "output_type": "display_data"
    },
    {
     "data": {
      "application/vnd.jupyter.widget-view+json": {
       "model_id": "1ab9517846bc4f31a991b1f1ae5b4b42",
       "version_major": 2,
       "version_minor": 0
      },
      "text/plain": [
       "FloatProgress(value=0.0, bar_style='info', description='Progress:', layout=Layout(height='25px', width='50%'),…"
      ]
     },
     "metadata": {},
     "output_type": "display_data"
    },
    {
     "name": "stdout",
     "output_type": "stream",
     "text": [
      "Collecting boto3\n",
      "  Downloading boto3-1.33.13-py3-none-any.whl (139 kB)\n",
      "Requirement already satisfied: jmespath<2.0.0,>=0.7.1 in /usr/local/lib/python3.7/site-packages (from boto3) (1.0.1)\n",
      "Collecting botocore<1.34.0,>=1.33.13\n",
      "  Downloading botocore-1.33.13-py3-none-any.whl (11.8 MB)\n",
      "Collecting s3transfer<0.9.0,>=0.8.2\n",
      "  Downloading s3transfer-0.8.2-py3-none-any.whl (82 kB)\n",
      "Collecting urllib3<1.27,>=1.25.4; python_version < \"3.10\"\n",
      "  Downloading urllib3-1.26.18-py2.py3-none-any.whl (143 kB)\n",
      "Collecting python-dateutil<3.0.0,>=2.1\n",
      "  Downloading python_dateutil-2.9.0.post0-py2.py3-none-any.whl (229 kB)\n",
      "Requirement already satisfied: six>=1.5 in /usr/local/lib/python3.7/site-packages (from python-dateutil<3.0.0,>=2.1->botocore<1.34.0,>=1.33.13->boto3) (1.13.0)\n",
      "Installing collected packages: urllib3, python-dateutil, botocore, s3transfer, boto3\n",
      "Successfully installed boto3-1.33.13 botocore-1.33.13 python-dateutil-2.9.0.post0 s3transfer-0.8.2 urllib3-1.26.18\n",
      "\n",
      "WARNING: The directory '/home/.cache/pip' or its parent directory is not owned or is not writable by the current user. The cache has been disabled. Check the permissions and owner of that directory. If executing pip with sudo, you may want sudo's -H flag."
     ]
    }
   ],
   "source": [
    "sc.install_pypi_package(\"boto3\")"
   ]
  },
  {
   "cell_type": "code",
   "execution_count": 11,
   "id": "b7d46a23-dc3b-4a36-9480-559a31e6f364",
   "metadata": {
    "execution": {
     "iopub.execute_input": "2024-04-30T08:09:58.706296Z",
     "iopub.status.busy": "2024-04-30T08:09:58.706074Z",
     "iopub.status.idle": "2024-04-30T08:09:58.969830Z",
     "shell.execute_reply": "2024-04-30T08:09:58.969163Z",
     "shell.execute_reply.started": "2024-04-30T08:09:58.706271Z"
    }
   },
   "outputs": [
    {
     "data": {
      "application/vnd.jupyter.widget-view+json": {
       "model_id": "4dbef61b222d4cfd8ff336a28af13dc5",
       "version_major": 2,
       "version_minor": 0
      },
      "text/plain": [
       "VBox()"
      ]
     },
     "metadata": {},
     "output_type": "display_data"
    },
    {
     "data": {
      "application/vnd.jupyter.widget-view+json": {
       "model_id": "bb1bdbed19ab4781abf925b169843531",
       "version_major": 2,
       "version_minor": 0
      },
      "text/plain": [
       "FloatProgress(value=0.0, bar_style='info', description='Progress:', layout=Layout(height='25px', width='50%'),…"
      ]
     },
     "metadata": {},
     "output_type": "display_data"
    }
   ],
   "source": [
    "from pyspark.sql import SparkSession\n",
    "import boto3\n",
    "from datetime import datetime\n",
    "\n",
    "def get_processed_files(table):\n",
    "    response = table.scan()\n",
    "    return {item['FileName'] for item in response['Items']}\n",
    "\n",
    "def update_processed_files(table, file_name):\n",
    "    response = table.put_item(\n",
    "        Item={\n",
    "            'FileName': file_name,\n",
    "            'ProcessedDate': datetime.now().isoformat()\n",
    "        }\n",
    "    )\n",
    "    return response"
   ]
  },
  {
   "cell_type": "code",
   "execution_count": 14,
   "id": "b12422a6-d9b7-4f66-b152-4e79e781b01c",
   "metadata": {
    "execution": {
     "iopub.execute_input": "2024-04-30T08:10:30.874803Z",
     "iopub.status.busy": "2024-04-30T08:10:30.874575Z",
     "iopub.status.idle": "2024-04-30T08:10:30.931997Z",
     "shell.execute_reply": "2024-04-30T08:10:30.931173Z",
     "shell.execute_reply.started": "2024-04-30T08:10:30.874780Z"
    },
    "tags": []
   },
   "outputs": [
    {
     "data": {
      "application/vnd.jupyter.widget-view+json": {
       "model_id": "df0cc1a2bc444273ac71726ee981a817",
       "version_major": 2,
       "version_minor": 0
      },
      "text/plain": [
       "VBox()"
      ]
     },
     "metadata": {},
     "output_type": "display_data"
    },
    {
     "data": {
      "application/vnd.jupyter.widget-view+json": {
       "model_id": "7a165aa520874cc8bcb3f21b71b8dc0f",
       "version_major": 2,
       "version_minor": 0
      },
      "text/plain": [
       "FloatProgress(value=0.0, bar_style='info', description='Progress:', layout=Layout(height='25px', width='50%'),…"
      ]
     },
     "metadata": {},
     "output_type": "display_data"
    }
   ],
   "source": [
    "dynamodb = boto3.resource('dynamodb', region_name=\"ap-northeast-2\")\n",
    "table = dynamodb.Table('ProcessedFiles')"
   ]
  },
  {
   "cell_type": "code",
   "execution_count": 15,
   "id": "4eb125f5-447c-4260-a161-b0b1e0297a15",
   "metadata": {
    "execution": {
     "iopub.execute_input": "2024-04-30T08:10:39.444765Z",
     "iopub.status.busy": "2024-04-30T08:10:39.444520Z",
     "iopub.status.idle": "2024-04-30T08:10:39.712273Z",
     "shell.execute_reply": "2024-04-30T08:10:39.711533Z",
     "shell.execute_reply.started": "2024-04-30T08:10:39.444740Z"
    }
   },
   "outputs": [
    {
     "data": {
      "application/vnd.jupyter.widget-view+json": {
       "model_id": "61eeaf33c3984b4cae6da47f69f562fb",
       "version_major": 2,
       "version_minor": 0
      },
      "text/plain": [
       "VBox()"
      ]
     },
     "metadata": {},
     "output_type": "display_data"
    },
    {
     "data": {
      "application/vnd.jupyter.widget-view+json": {
       "model_id": "d8545535da4c4943ac530aeab2220c67",
       "version_major": 2,
       "version_minor": 0
      },
      "text/plain": [
       "FloatProgress(value=0.0, bar_style='info', description='Progress:', layout=Layout(height='25px', width='50%'),…"
      ]
     },
     "metadata": {},
     "output_type": "display_data"
    },
    {
     "name": "stderr",
     "output_type": "stream",
     "text": [
      "An error was encountered:\n",
      "An error occurred (ResourceNotFoundException) when calling the Scan operation: Requested resource not found\n",
      "Traceback (most recent call last):\n",
      "  File \"<stdin>\", line 6, in get_processed_files\n",
      "  File \"/mnt1/yarn/usercache/livy/appcache/application_1714370915645_0002/container_1714370915645_0002_01_000001/tmp/spark-b88befb0-4c70-41b5-8c45-ab14c5618814/lib/python3.7/site-packages/boto3/resources/factory.py\", line 581, in do_action\n",
      "    response = action(self, *args, **kwargs)\n",
      "  File \"/mnt1/yarn/usercache/livy/appcache/application_1714370915645_0002/container_1714370915645_0002_01_000001/tmp/spark-b88befb0-4c70-41b5-8c45-ab14c5618814/lib/python3.7/site-packages/boto3/resources/action.py\", line 88, in __call__\n",
      "    response = getattr(parent.meta.client, operation_name)(*args, **params)\n",
      "  File \"/mnt1/yarn/usercache/livy/appcache/application_1714370915645_0002/container_1714370915645_0002_01_000001/tmp/spark-b88befb0-4c70-41b5-8c45-ab14c5618814/lib/python3.7/site-packages/botocore/client.py\", line 553, in _api_call\n",
      "    return self._make_api_call(operation_name, kwargs)\n",
      "  File \"/mnt1/yarn/usercache/livy/appcache/application_1714370915645_0002/container_1714370915645_0002_01_000001/tmp/spark-b88befb0-4c70-41b5-8c45-ab14c5618814/lib/python3.7/site-packages/botocore/client.py\", line 1009, in _make_api_call\n",
      "    raise error_class(parsed_response, operation_name)\n",
      "botocore.errorfactory.ResourceNotFoundException: An error occurred (ResourceNotFoundException) when calling the Scan operation: Requested resource not found\n",
      "\n"
     ]
    }
   ],
   "source": [
    "processed_files = get_processed_files(table)"
   ]
  },
  {
   "cell_type": "code",
   "execution_count": null,
   "id": "d7c27e5a-a2fd-44f2-82d1-6d28d0f5a9a9",
   "metadata": {},
   "outputs": [],
   "source": [
    "file_list = spark.sparkContext.wholeTextFiles(\"s3://your-bucket/path/*\").keys().collect()"
   ]
  },
  {
   "cell_type": "code",
   "execution_count": 1,
   "id": "e571d1c4-bba3-4241-ba23-53bd8bdf7dea",
   "metadata": {
    "execution": {
     "iopub.execute_input": "2024-04-30T07:39:22.104520Z",
     "iopub.status.busy": "2024-04-30T07:39:22.104223Z",
     "iopub.status.idle": "2024-04-30T07:39:56.130168Z",
     "shell.execute_reply": "2024-04-30T07:39:56.129580Z",
     "shell.execute_reply.started": "2024-04-30T07:39:22.104495Z"
    }
   },
   "outputs": [
    {
     "data": {
      "application/vnd.jupyter.widget-view+json": {
       "model_id": "bb8a8a22df8a4617b3d83b7049d016b3",
       "version_major": 2,
       "version_minor": 0
      },
      "text/plain": [
       "VBox()"
      ]
     },
     "metadata": {},
     "output_type": "display_data"
    },
    {
     "name": "stdout",
     "output_type": "stream",
     "text": [
      "Starting Spark application\n"
     ]
    },
    {
     "data": {
      "text/html": [
       "<table>\n<tbody><tr><th>ID</th><th>YARN Application ID</th><th>Kind</th><th>State</th><th>Spark UI</th><th>Driver log</th><th>User</th><th>Current session?</th></tr><tr><td>0</td><td>application_1714370915645_0001</td><td>pyspark</td><td>idle</td><td><a target=\"_blank\" href=\"http://ip-10-0-4-151.ap-northeast-2.compute.internal:20888/proxy/application_1714370915645_0001/\" class=\"emr-proxy-link j-2UIWUP2I88RE1 application_1714370915645_0001\" emr-resource=\"j-2UIWUP2I88RE1\n\" application-id=\"application_1714370915645_0001\">Link</a></td><td><a target=\"_blank\" href=\"http://ip-10-0-4-138.ap-northeast-2.compute.internal:8042/node/containerlogs/container_1714370915645_0001_01_000001/livy\">Link</a></td><td>None</td><td>✔</td></tr></tbody></table>"
      ],
      "text/plain": [
       "<IPython.core.display.HTML object>"
      ]
     },
     "metadata": {},
     "output_type": "display_data"
    },
    {
     "data": {
      "application/vnd.jupyter.widget-view+json": {
       "model_id": "",
       "version_major": 2,
       "version_minor": 0
      },
      "text/plain": [
       "FloatProgress(value=0.0, bar_style='info', description='Progress:', layout=Layout(height='25px', width='50%'),…"
      ]
     },
     "metadata": {},
     "output_type": "display_data"
    },
    {
     "name": "stdout",
     "output_type": "stream",
     "text": [
      "SparkSession available as 'spark'.\n"
     ]
    },
    {
     "data": {
      "application/vnd.jupyter.widget-view+json": {
       "model_id": "",
       "version_major": 2,
       "version_minor": 0
      },
      "text/plain": [
       "FloatProgress(value=0.0, bar_style='info', description='Progress:', layout=Layout(height='25px', width='50%'),…"
      ]
     },
     "metadata": {},
     "output_type": "display_data"
    }
   ],
   "source": [
    "catalog_name = \"glue_catalog\"\n",
    "bucket_name = \"chiholee-datalake001\"\n",
    "database_name = \"ecommerce\"\n",
    "\n",
    "table_name = \"orders\"\n",
    "last_update_time = 'order_dt'\n",
    "\n",
    "source_bucket_prefix = \"transaction/initial/raw\"\n",
    "source_path = f\"s3://{bucket_name}/{source_bucket_prefix}\"\n",
    "source_table_name = table_name\n",
    "\n",
    "iceberg_bucket_prefix = \"transaction/iceberg/emr\"\n",
    "warehouse_path = f\"s3://{bucket_name}/{iceberg_bucket_prefix}\"\n",
    "iceberg_table_name = f\"{table_name}_cdc_emr_iceberg\"\n"
   ]
  },
  {
   "cell_type": "code",
   "execution_count": 3,
   "id": "dd613450-6bad-4397-9619-04921c8a9a3d",
   "metadata": {
    "execution": {
     "iopub.execute_input": "2024-04-30T07:40:54.926473Z",
     "iopub.status.busy": "2024-04-30T07:40:54.926248Z",
     "iopub.status.idle": "2024-04-30T07:40:55.043289Z",
     "shell.execute_reply": "2024-04-30T07:40:55.042522Z",
     "shell.execute_reply.started": "2024-04-30T07:40:54.926447Z"
    }
   },
   "outputs": [
    {
     "data": {
      "application/vnd.jupyter.widget-view+json": {
       "model_id": "e101a7d5af09481481fb0123d3ea96a3",
       "version_major": 2,
       "version_minor": 0
      },
      "text/plain": [
       "VBox()"
      ]
     },
     "metadata": {},
     "output_type": "display_data"
    },
    {
     "data": {
      "application/vnd.jupyter.widget-view+json": {
       "model_id": "",
       "version_major": 2,
       "version_minor": 0
      },
      "text/plain": [
       "FloatProgress(value=0.0, bar_style='info', description='Progress:', layout=Layout(height='25px', width='50%'),…"
      ]
     },
     "metadata": {},
     "output_type": "display_data"
    }
   ],
   "source": [
    "from pyspark.sql import SparkSession\n",
    "spark = SparkSession.builder \\\n",
    "    .config(f\"spark.sql.catalog.{catalog_name}\", \"org.apache.iceberg.spark.SparkCatalog\") \\\n",
    "    .config(f\"spark.sql.catalog.{catalog_name}.warehouse\", f\"{warehouse_path}\") \\\n",
    "    .config(f\"spark.sql.catalog.{catalog_name}.catalog-impl\", \"org.apache.iceberg.aws.glue.GlueCatalog\") \\\n",
    "    .config(f\"spark.sql.catalog.{catalog_name}.io-impl\", \"org.apache.iceberg.aws.s3.S3FileIO\") \\\n",
    "    .config(\"spark.sql.extensions\",\"org.apache.iceberg.spark.extensions.IcebergSparkSessionExtensions\") \\\n",
    "    .getOrCreate()"
   ]
  },
  {
   "cell_type": "code",
   "execution_count": 11,
   "id": "f49d7e37-6078-4893-bd5b-913f9bdd98df",
   "metadata": {
    "execution": {
     "iopub.execute_input": "2024-04-30T07:49:38.530845Z",
     "iopub.status.busy": "2024-04-30T07:49:38.530615Z",
     "iopub.status.idle": "2024-04-30T07:49:47.844723Z",
     "shell.execute_reply": "2024-04-30T07:49:47.843944Z",
     "shell.execute_reply.started": "2024-04-30T07:49:38.530820Z"
    },
    "tags": []
   },
   "outputs": [
    {
     "data": {
      "application/vnd.jupyter.widget-view+json": {
       "model_id": "d9aeb296164a4c68b8eadfe1c41c4503",
       "version_major": 2,
       "version_minor": 0
      },
      "text/plain": [
       "VBox()"
      ]
     },
     "metadata": {},
     "output_type": "display_data"
    },
    {
     "data": {
      "application/vnd.jupyter.widget-view+json": {
       "model_id": "",
       "version_major": 2,
       "version_minor": 0
      },
      "text/plain": [
       "FloatProgress(value=0.0, bar_style='info', description='Progress:', layout=Layout(height='25px', width='50%'),…"
      ]
     },
     "metadata": {},
     "output_type": "display_data"
    }
   ],
   "source": [
    "fullDf = spark.read.parquet(f'{source_path}/{database_name}/{source_table_name}/')"
   ]
  },
  {
   "cell_type": "code",
   "execution_count": 12,
   "id": "82dbb24f-1503-4893-8d5b-f05280b276cb",
   "metadata": {
    "execution": {
     "iopub.execute_input": "2024-04-30T07:49:50.624292Z",
     "iopub.status.busy": "2024-04-30T07:49:50.624077Z",
     "iopub.status.idle": "2024-04-30T07:49:50.891880Z",
     "shell.execute_reply": "2024-04-30T07:49:50.890712Z",
     "shell.execute_reply.started": "2024-04-30T07:49:50.624269Z"
    }
   },
   "outputs": [
    {
     "data": {
      "application/vnd.jupyter.widget-view+json": {
       "model_id": "6d4c070466f84dd396cfabfe0e185529",
       "version_major": 2,
       "version_minor": 0
      },
      "text/plain": [
       "VBox()"
      ]
     },
     "metadata": {},
     "output_type": "display_data"
    },
    {
     "data": {
      "application/vnd.jupyter.widget-view+json": {
       "model_id": "",
       "version_major": 2,
       "version_minor": 0
      },
      "text/plain": [
       "FloatProgress(value=0.0, bar_style='info', description='Progress:', layout=Layout(height='25px', width='50%'),…"
      ]
     },
     "metadata": {},
     "output_type": "display_data"
    }
   ],
   "source": [
    "from datetime import datetime\n",
    "from pyspark.sql.functions import year, month, dayofmonth\n",
    "from pyspark.sql.functions import concat, col, lit, to_timestamp\n",
    "\n",
    "current_datetime = datetime.now().strftime('%Y-%m-%d %H:%M:%S')\n",
    "fullDf = fullDf.withColumn(last_update_time,to_timestamp(col(last_update_time)))\n",
    "fullDf = (fullDf\n",
    "      .withColumn('year', year(col(last_update_time)))\n",
    "      .withColumn('month', month(col(last_update_time)))\n",
    "      .withColumn('day', dayofmonth(col(last_update_time)))\n",
    "     )\n",
    "fullDf = fullDf.withColumn('last_applied_date',to_timestamp(lit(current_datetime)))\n",
    "\n",
    "\n",
    "\n"
   ]
  },
  {
   "cell_type": "code",
   "execution_count": 16,
   "id": "d6e451a1-f7d9-404a-b740-8ef3329ca902",
   "metadata": {
    "execution": {
     "iopub.execute_input": "2024-04-30T07:50:23.095130Z",
     "iopub.status.busy": "2024-04-30T07:50:23.094833Z",
     "iopub.status.idle": "2024-04-30T07:50:23.388921Z",
     "shell.execute_reply": "2024-04-30T07:50:23.387823Z",
     "shell.execute_reply.started": "2024-04-30T07:50:23.095096Z"
    }
   },
   "outputs": [
    {
     "data": {
      "application/vnd.jupyter.widget-view+json": {
       "model_id": "1fc62bf9f9b747cfad650e7cc3e893fb",
       "version_major": 2,
       "version_minor": 0
      },
      "text/plain": [
       "VBox()"
      ]
     },
     "metadata": {},
     "output_type": "display_data"
    },
    {
     "data": {
      "application/vnd.jupyter.widget-view+json": {
       "model_id": "",
       "version_major": 2,
       "version_minor": 0
      },
      "text/plain": [
       "FloatProgress(value=0.0, bar_style='info', description='Progress:', layout=Layout(height='25px', width='50%'),…"
      ]
     },
     "metadata": {},
     "output_type": "display_data"
    }
   ],
   "source": [
    "fullDf = fullDf.repartition(\"year\", \"month\", \"day\").sortWithinPartitions(\"year\", \"month\", \"day\")"
   ]
  },
  {
   "cell_type": "code",
   "execution_count": 17,
   "id": "57bc8852-7f21-4c1d-9349-52d089a6f50f",
   "metadata": {
    "execution": {
     "iopub.execute_input": "2024-04-30T07:50:24.082418Z",
     "iopub.status.busy": "2024-04-30T07:50:24.082195Z",
     "iopub.status.idle": "2024-04-30T07:50:29.396222Z",
     "shell.execute_reply": "2024-04-30T07:50:29.395567Z",
     "shell.execute_reply.started": "2024-04-30T07:50:24.082393Z"
    },
    "tags": []
   },
   "outputs": [
    {
     "data": {
      "application/vnd.jupyter.widget-view+json": {
       "model_id": "14812344728f4e9b8c38cf656e7857fa",
       "version_major": 2,
       "version_minor": 0
      },
      "text/plain": [
       "VBox()"
      ]
     },
     "metadata": {},
     "output_type": "display_data"
    },
    {
     "data": {
      "application/vnd.jupyter.widget-view+json": {
       "model_id": "",
       "version_major": 2,
       "version_minor": 0
      },
      "text/plain": [
       "FloatProgress(value=0.0, bar_style='info', description='Progress:', layout=Layout(height='25px', width='50%'),…"
      ]
     },
     "metadata": {},
     "output_type": "display_data"
    },
    {
     "name": "stdout",
     "output_type": "stream",
     "text": [
      "+--------+--------+---------+-----------+-------------------+-----------+----------+----+-----+---+-------------------+\n",
      "|order_id|promo_id|order_cnt|order_price|           order_dt|customer_id|product_id|year|month|day|  last_applied_date|\n",
      "+--------+--------+---------+-----------+-------------------+-----------+----------+----+-----+---+-------------------+\n",
      "|       7| PROMO19|        1|       6000|2024-04-19 10:14:53|         76|        12|2024|    4| 19|2024-04-30 07:49:50|\n",
      "|      14| PROMO08|        4|      15000|2024-04-19 05:32:45|         90|        18|2024|    4| 19|2024-04-30 07:49:50|\n",
      "|      29| PROMO13|        1|      45000|2024-04-19 01:08:33|         10|         9|2024|    4| 19|2024-04-30 07:49:50|\n",
      "|      54| PROMO11|        9|      23000|2024-04-19 07:22:30|         81|         6|2024|    4| 19|2024-04-30 07:49:50|\n",
      "|      69| PROMO15|       10|      22000|2024-04-19 23:27:57|         27|        17|2024|    4| 19|2024-04-30 07:49:50|\n",
      "|      90| PROMO11|        1|      36000|2024-04-19 02:14:47|         32|        12|2024|    4| 19|2024-04-30 07:49:50|\n",
      "|      92| PROMO07|        3|      30000|2024-04-19 22:05:33|         61|        14|2024|    4| 19|2024-04-30 07:49:50|\n",
      "|      99| PROMO17|        1|      36000|2024-04-19 12:39:00|         51|         2|2024|    4| 19|2024-04-30 07:49:50|\n",
      "|     104| PROMO16|        3|      24000|2024-04-19 18:04:38|         68|         6|2024|    4| 19|2024-04-30 07:49:50|\n",
      "|     109| PROMO02|       10|      12000|2024-04-19 22:18:07|         95|         8|2024|    4| 19|2024-04-30 07:49:50|\n",
      "|     122| PROMO19|        3|      42000|2024-04-19 06:36:57|         33|         3|2024|    4| 19|2024-04-30 07:49:50|\n",
      "|     124| PROMO03|        8|      31000|2024-04-19 21:19:22|         26|        15|2024|    4| 19|2024-04-30 07:49:50|\n",
      "|     136| PROMO03|        7|      26000|2024-04-19 00:47:00|         17|         8|2024|    4| 19|2024-04-30 07:49:50|\n",
      "|     182| PROMO04|        2|      43000|2024-04-19 02:03:25|         29|        16|2024|    4| 19|2024-04-30 07:49:50|\n",
      "|     195| PROMO11|        1|      47000|2024-04-19 16:32:35|         53|         7|2024|    4| 19|2024-04-30 07:49:50|\n",
      "|     206| PROMO12|        8|       7000|2024-04-19 22:47:26|         95|        20|2024|    4| 19|2024-04-30 07:49:50|\n",
      "|     233| PROMO07|        4|       7000|2024-04-19 07:17:08|         99|        17|2024|    4| 19|2024-04-30 07:49:50|\n",
      "|     234| PROMO15|        6|      35000|2024-04-19 17:26:30|          9|        16|2024|    4| 19|2024-04-30 07:49:50|\n",
      "|     249| PROMO10|        4|      44000|2024-04-19 15:54:33|         58|        13|2024|    4| 19|2024-04-30 07:49:50|\n",
      "|     283| PROMO18|        8|      13000|2024-04-19 07:27:39|          7|         4|2024|    4| 19|2024-04-30 07:49:50|\n",
      "+--------+--------+---------+-----------+-------------------+-----------+----------+----+-----+---+-------------------+\n",
      "only showing top 20 rows"
     ]
    }
   ],
   "source": [
    "fullDf.show()"
   ]
  },
  {
   "cell_type": "code",
   "execution_count": 18,
   "id": "c22ce9ab-1360-4261-bba1-f1f7d4c1bea6",
   "metadata": {
    "execution": {
     "iopub.execute_input": "2024-04-30T07:50:29.397852Z",
     "iopub.status.busy": "2024-04-30T07:50:29.397600Z",
     "iopub.status.idle": "2024-04-30T07:50:29.457054Z",
     "shell.execute_reply": "2024-04-30T07:50:29.456430Z",
     "shell.execute_reply.started": "2024-04-30T07:50:29.397817Z"
    },
    "tags": []
   },
   "outputs": [
    {
     "data": {
      "application/vnd.jupyter.widget-view+json": {
       "model_id": "ac895ac22db44ef2ac32a1d04f515729",
       "version_major": 2,
       "version_minor": 0
      },
      "text/plain": [
       "VBox()"
      ]
     },
     "metadata": {},
     "output_type": "display_data"
    },
    {
     "data": {
      "application/vnd.jupyter.widget-view+json": {
       "model_id": "",
       "version_major": 2,
       "version_minor": 0
      },
      "text/plain": [
       "FloatProgress(value=0.0, bar_style='info', description='Progress:', layout=Layout(height='25px', width='50%'),…"
      ]
     },
     "metadata": {},
     "output_type": "display_data"
    },
    {
     "name": "stdout",
     "output_type": "stream",
     "text": [
      "root\n",
      " |-- order_id: integer (nullable = true)\n",
      " |-- promo_id: string (nullable = true)\n",
      " |-- order_cnt: integer (nullable = true)\n",
      " |-- order_price: integer (nullable = true)\n",
      " |-- order_dt: timestamp (nullable = true)\n",
      " |-- customer_id: long (nullable = true)\n",
      " |-- product_id: integer (nullable = true)\n",
      " |-- year: integer (nullable = true)\n",
      " |-- month: integer (nullable = true)\n",
      " |-- day: integer (nullable = true)\n",
      " |-- last_applied_date: timestamp (nullable = true)"
     ]
    }
   ],
   "source": [
    "fullDf.printSchema()"
   ]
  },
  {
   "cell_type": "code",
   "execution_count": 22,
   "id": "fbb57bed-2ba9-4045-a9c3-333c1a08ee87",
   "metadata": {
    "execution": {
     "iopub.execute_input": "2024-04-30T07:51:51.798431Z",
     "iopub.status.busy": "2024-04-30T07:51:51.798180Z",
     "iopub.status.idle": "2024-04-30T07:51:52.055866Z",
     "shell.execute_reply": "2024-04-30T07:51:52.055190Z",
     "shell.execute_reply.started": "2024-04-30T07:51:51.798403Z"
    },
    "tags": []
   },
   "outputs": [
    {
     "data": {
      "application/vnd.jupyter.widget-view+json": {
       "model_id": "21e9d8e04b284d8bbf5eb4eb8c8e8396",
       "version_major": 2,
       "version_minor": 0
      },
      "text/plain": [
       "VBox()"
      ]
     },
     "metadata": {},
     "output_type": "display_data"
    },
    {
     "data": {
      "application/vnd.jupyter.widget-view+json": {
       "model_id": "",
       "version_major": 2,
       "version_minor": 0
      },
      "text/plain": [
       "FloatProgress(value=0.0, bar_style='info', description='Progress:', layout=Layout(height='25px', width='50%'),…"
      ]
     },
     "metadata": {},
     "output_type": "display_data"
    }
   ],
   "source": [
    "fullDf.createOrReplaceTempView(f\"{source_table_name}_initial\")"
   ]
  },
  {
   "cell_type": "code",
   "execution_count": 20,
   "id": "1984ecb7-6462-4927-b060-6cb3aa82940f",
   "metadata": {
    "execution": {
     "iopub.execute_input": "2024-04-30T07:50:40.808070Z",
     "iopub.status.busy": "2024-04-30T07:50:40.807843Z",
     "iopub.status.idle": "2024-04-30T07:50:41.070967Z",
     "shell.execute_reply": "2024-04-30T07:50:41.070218Z",
     "shell.execute_reply.started": "2024-04-30T07:50:40.808046Z"
    },
    "tags": []
   },
   "outputs": [
    {
     "data": {
      "application/vnd.jupyter.widget-view+json": {
       "model_id": "e8010da2530a4a589db53d4b87a85d50",
       "version_major": 2,
       "version_minor": 0
      },
      "text/plain": [
       "VBox()"
      ]
     },
     "metadata": {},
     "output_type": "display_data"
    },
    {
     "data": {
      "application/vnd.jupyter.widget-view+json": {
       "model_id": "",
       "version_major": 2,
       "version_minor": 0
      },
      "text/plain": [
       "FloatProgress(value=0.0, bar_style='info', description='Progress:', layout=Layout(height='25px', width='50%'),…"
      ]
     },
     "metadata": {},
     "output_type": "display_data"
    },
    {
     "name": "stdout",
     "output_type": "stream",
     "text": [
      "DataFrame[]"
     ]
    }
   ],
   "source": [
    "spark.sql(f\"CREATE DATABASE IF NOT EXISTS {catalog_name}.{database_name}\")"
   ]
  },
  {
   "cell_type": "code",
   "execution_count": 23,
   "id": "6e57dd48-9f4e-4662-94ad-e0d9c39f13cc",
   "metadata": {
    "execution": {
     "iopub.execute_input": "2024-04-30T07:51:57.650394Z",
     "iopub.status.busy": "2024-04-30T07:51:57.650148Z",
     "iopub.status.idle": "2024-04-30T07:52:14.988449Z",
     "shell.execute_reply": "2024-04-30T07:52:14.987798Z",
     "shell.execute_reply.started": "2024-04-30T07:51:57.650370Z"
    },
    "tags": []
   },
   "outputs": [
    {
     "data": {
      "application/vnd.jupyter.widget-view+json": {
       "model_id": "77ac097fefaf455194ecc7415d0909bb",
       "version_major": 2,
       "version_minor": 0
      },
      "text/plain": [
       "VBox()"
      ]
     },
     "metadata": {},
     "output_type": "display_data"
    },
    {
     "data": {
      "application/vnd.jupyter.widget-view+json": {
       "model_id": "",
       "version_major": 2,
       "version_minor": 0
      },
      "text/plain": [
       "FloatProgress(value=0.0, bar_style='info', description='Progress:', layout=Layout(height='25px', width='50%'),…"
      ]
     },
     "metadata": {},
     "output_type": "display_data"
    },
    {
     "name": "stdout",
     "output_type": "stream",
     "text": [
      "DataFrame[]"
     ]
    }
   ],
   "source": [
    "spark.sql(f\"\"\"CREATE TABLE IF NOT EXISTS {catalog_name}.{database_name}.{iceberg_table_name}\n",
    "            USING iceberg \n",
    "            PARTITIONED BY (year, month, day)\n",
    "            as (SELECT * from {source_table_name}_initial)\"\"\")"
   ]
  },
  {
   "cell_type": "code",
   "execution_count": null,
   "id": "f8ce7270-5464-4c4b-be1a-be30681a3c8a",
   "metadata": {},
   "outputs": [],
   "source": []
  }
 ],
 "metadata": {
  "kernelspec": {
   "display_name": "PySpark",
   "language": "python",
   "name": "pysparkkernel"
  },
  "language_info": {
   "codemirror_mode": {
    "name": "python",
    "version": 3
   },
   "file_extension": ".py",
   "mimetype": "text/x-python",
   "name": "pyspark",
   "pygments_lexer": "python3"
  }
 },
 "nbformat": 4,
 "nbformat_minor": 5
}
