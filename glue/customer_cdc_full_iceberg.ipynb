{
	"metadata": {
		"kernelspec": {
			"name": "glue_pyspark",
			"display_name": "Glue PySpark",
			"language": "python"
		},
		"language_info": {
			"name": "Python_Glue_Session",
			"mimetype": "text/x-python",
			"codemirror_mode": {
				"name": "python",
				"version": 3
			},
			"pygments_lexer": "python3",
			"file_extension": ".py"
		}
	},
	"nbformat_minor": 4,
	"nbformat": 4,
	"cells": [
		{
			"cell_type": "code",
			"source": "%session_id_prefix customer_cdc_full_iceberg_01\n%glue_version 3.0\n%idle_timeout 60\n%%configure \n{\n  \"--conf\": \"spark.sql.extensions=org.apache.iceberg.spark.extensions.IcebergSparkSessionExtensions\",\n  \"--datalake-formats\": \"iceberg\",\n  \"--JOB_NAME\": \"customer_cdc_full_iceberg\"\n}",
			"metadata": {
				"trusted": true,
				"tags": []
			},
			"execution_count": 20,
			"outputs": [
				{
					"name": "stdout",
					"text": "Setting session ID prefix to customer_cdc_full_iceberg_01\n",
					"output_type": "stream"
				},
				{
					"name": "stderr",
					"text": "You are already connected to a glueetl session 476466d6-1a93-45d7-9f13-4b9d8e1879e3.\n\nNo change will be made to the current session that is set as glueetl. The session configuration change will apply to newly created sessions.\n",
					"output_type": "stream"
				},
				{
					"name": "stdout",
					"text": "Setting Glue version to: 3.0\n",
					"output_type": "stream"
				},
				{
					"name": "stderr",
					"text": "You are already connected to a glueetl session 476466d6-1a93-45d7-9f13-4b9d8e1879e3.\n\nNo change will be made to the current session that is set as glueetl. The session configuration change will apply to newly created sessions.\n",
					"output_type": "stream"
				},
				{
					"name": "stdout",
					"text": "Current idle_timeout is 60 minutes.\nidle_timeout has been set to 60 minutes.\n",
					"output_type": "stream"
				},
				{
					"name": "stderr",
					"text": "You are already connected to a glueetl session 476466d6-1a93-45d7-9f13-4b9d8e1879e3.\n\nNo change will be made to the current session that is set as glueetl. The session configuration change will apply to newly created sessions.\n",
					"output_type": "stream"
				},
				{
					"name": "stdout",
					"text": "The following configurations have been updated: {'--conf': 'spark.sql.extensions=org.apache.iceberg.spark.extensions.IcebergSparkSessionExtensions', '--datalake-formats': 'iceberg', '--JOB_NAME': 'customer_cdc_full_iceberg'}\n",
					"output_type": "stream"
				}
			]
		},
		{
			"cell_type": "code",
			"source": "catalog_name = \"glue_catalog\"\nbucket_name = \"chiholee-datalake001\"\ndatabase_name = \"ecommerce\"\n\ntable_name = \"customer\"\nlast_update_time = 'last_update_time'\n\nsource_bucket_prefix = \"transaction/initial/raw\"\nsource_path = f\"s3://{bucket_name}/{source_bucket_prefix}\"\nsource_table_name = table_name\n\niceberg_bucket_prefix = \"transaction/iceberg/glue\"\nwarehouse_path = f\"s3://{bucket_name}/{iceberg_bucket_prefix}\"\niceberg_table_name = f\"{table_name}_cdc_glue_iceberg\"\n\n\n\n",
			"metadata": {
				"trusted": true,
				"tags": []
			},
			"execution_count": 85,
			"outputs": [
				{
					"name": "stdout",
					"text": "\n",
					"output_type": "stream"
				}
			]
		},
		{
			"cell_type": "code",
			"source": "from pyspark.sql import SparkSession\nspark = SparkSession.builder \\\n    .config(f\"spark.sql.catalog.{catalog_name}\", \"org.apache.iceberg.spark.SparkCatalog\") \\\n    .config(f\"spark.sql.catalog.{catalog_name}.warehouse\", f\"{warehouse_path}\") \\\n    .config(f\"spark.sql.catalog.{catalog_name}.catalog-impl\", \"org.apache.iceberg.aws.glue.GlueCatalog\") \\\n    .config(f\"spark.sql.catalog.{catalog_name}.io-impl\", \"org.apache.iceberg.aws.s3.S3FileIO\") \\\n    .config(\"spark.sql.extensions\",\"org.apache.iceberg.spark.extensions.IcebergSparkSessionExtensions\") \\\n    .getOrCreate()",
			"metadata": {
				"trusted": true,
				"tags": []
			},
			"execution_count": 86,
			"outputs": [
				{
					"name": "stdout",
					"text": "\n",
					"output_type": "stream"
				}
			]
		},
		{
			"cell_type": "code",
			"source": "import sys\nfrom awsglue.job import Job\nfrom awsglue.context import GlueContext\nfrom awsglue.utils import getResolvedOptions\n\n\nglueContext = GlueContext(spark)\n\nargs = getResolvedOptions(sys.argv, ['JOB_NAME'])\njob = Job(glueContext)\njob.init(args['JOB_NAME'], args)\n",
			"metadata": {
				"trusted": true,
				"tags": []
			},
			"execution_count": 87,
			"outputs": [
				{
					"name": "stdout",
					"text": "\n",
					"output_type": "stream"
				}
			]
		},
		{
			"cell_type": "code",
			"source": "print(f'{source_path}/{database_name}/{source_table_name}/')",
			"metadata": {
				"trusted": true,
				"tags": []
			},
			"execution_count": 88,
			"outputs": [
				{
					"name": "stdout",
					"text": "s3://chiholee-datalake001/transaction/initial/raw/ecommerce/customer/\n",
					"output_type": "stream"
				}
			]
		},
		{
			"cell_type": "code",
			"source": "fullDyf = glueContext.create_dynamic_frame_from_options(\n    connection_type='s3',\n    connection_options={\n        'paths': [f'{source_path}/{database_name}/{source_table_name}/'],\n        'groupFiles': 'none',\n        'recurse': True\n    },\n    format='parquet',\n    transformation_ctx='fullDyf')",
			"metadata": {
				"trusted": true,
				"tags": []
			},
			"execution_count": 89,
			"outputs": [
				{
					"name": "stdout",
					"text": "\n",
					"output_type": "stream"
				}
			]
		},
		{
			"cell_type": "code",
			"source": "print(f\"Count of data after last job bookmark:{fullDyf.count()}\")",
			"metadata": {
				"trusted": true,
				"tags": []
			},
			"execution_count": 90,
			"outputs": [
				{
					"name": "stdout",
					"text": "Count of data after last job bookmark:100\n",
					"output_type": "stream"
				}
			]
		},
		{
			"cell_type": "code",
			"source": "fullDf = fullDyf.toDF()",
			"metadata": {
				"trusted": true,
				"tags": []
			},
			"execution_count": 91,
			"outputs": [
				{
					"name": "stdout",
					"text": "\n",
					"output_type": "stream"
				}
			]
		},
		{
			"cell_type": "code",
			"source": "fullDf.show()",
			"metadata": {
				"trusted": true,
				"tags": []
			},
			"execution_count": 92,
			"outputs": [
				{
					"name": "stdout",
					"text": "+-----------+--------------------+-------------------+------------+-----------+----------+---------+--------------------+--------+---------+-------------------+-------------+---+------+-------------------------------------+-------------------+------+\n|customer_id|            password|         last_login|is_superuser|   username|first_name|last_name|               email|is_staff|is_active|        date_joined| phone_number|age|gender|                              address|   last_update_time|  name|\n+-----------+--------------------+-------------------+------------+-----------+----------+---------+--------------------+--------+---------+-------------------+-------------+---+------+-------------------------------------+-------------------+------+\n|         38|pbkdf2_sha256$260...|2023-04-12 01:14:51|           0|     isubin|      성수|       박|gimyeeun@example.org|       1|        1|2021-06-09 11:53:35| 044-323-7026| 61|    여|    울산광역시 구로구 테헤란9거리 ...|2023-04-08 21:07:22|엄도현|\n|         66|pbkdf2_sha256$260...|2023-04-12 01:14:47|           0|       ebag|      지후|       손|    xbag@example.org|       0|        1|2021-04-26 02:41:43| 053-932-1843| 33|    남|      전라북도 광명시 영동대27가 (...|2023-04-09 00:25:58|최영철|\n|          2|pbkdf2_sha256$260...|2023-04-13 01:45:01|           1|        AWS|       AWS|      AWS|       aws@gmail.com|       1|        1|2023-04-09 03:15:42|010-1234-5678| 21|    남|                        서울시 강남구|2023-04-12 00:34:33|참석자|\n|         81|pbkdf2_sha256$260...|2023-04-12 01:14:46|           1|    anminji|      하윤|       하|seongsu68@example...|       1|        1|2023-03-13 17:51:28| 019-683-2063| 27|    여|      제주특별자치도 계룡시 역삼3거리|2023-04-09 04:56:45|김영희|\n|          1|pbkdf2_sha256$260...|2023-04-09 06:04:06|           1|      admin|     admin|    admin|      test@gmail.com|       1|        1|2023-04-08 11:19:55|010-7572-2721| 41|    남|   서울시 영등포구 문래동 모아미래...|2023-04-08 11:22:14|홍길동|\n|         34|pbkdf2_sha256$260...|2023-04-12 01:14:54|           0|       vgim|      영진|       백|  whwang@example.net|       0|        1|2021-11-03 16:41:14| 018-662-0254| 36|    여|      경상남도 남양주시 개포066길 ...|2023-04-09 03:13:06|배경희|\n|         97|pbkdf2_sha256$260...|2023-04-12 01:14:52|           1|        lan|      은정|       김|jeongjuweon@examp...|       1|        1|2021-05-24 04:43:32| 055-996-3997| 44|    여|             전라남도 단양군 양재천길|2023-04-08 16:42:04|이현정|\n|         74|pbkdf2_sha256$260...|2023-04-12 01:14:52|           1|        ken|      정자|       이|yeonghoi@example.com|       0|        1|2021-07-18 05:51:44|070-7422-4046| 35|    여|           광주광역시 노원구 압구정가|2023-04-09 06:59:55|박현숙|\n|         96|pbkdf2_sha256$260...|2023-04-12 01:14:51|           1|     ieunju|      미숙|       박|yeonghoyang@examp...|       0|        1|2023-01-15 15:20:56| 062-106-0293| 62|    남|제주특별자치도 용인시 처인구 양재천길|2023-04-08 15:32:52|황서영|\n|         42|pbkdf2_sha256$260...|2023-04-12 01:14:54|           1| yeonghomun|      미숙|       김|  minsui@example.org|       1|        1|2023-03-12 09:24:52| 031-411-2976| 55|    남|    울산광역시 중구 역삼거리 (병철...|2023-04-08 13:46:58|이성훈|\n|         24|pbkdf2_sha256$260...|2023-04-12 01:14:51|           0| hyeonsug05|      수진|       권|  bagsiu@example.org|       1|        1|2022-06-22 22:05:28| 061-321-6638| 42|    남|    서울특별시 중구 서초중앙로 (유...|2023-04-09 12:28:34|김미정|\n|         35|pbkdf2_sha256$260...|2023-04-12 01:14:51|           1| jeonghun49|      도현|       양|gimseoyun@example...|       0|        1|2022-11-10 05:34:19|070-6772-0337| 19|    남|  강원도 당진시 영동대길 (서준이안면)|2023-04-09 08:14:43|이광수|\n|         70|pbkdf2_sha256$260...|2023-04-12 01:14:47|           1|       bcoe|      도현|       권|jeongjahong@examp...|       0|        1|2022-03-02 10:11:41| 063-022-3686| 72|    남|       대전광역시 중구 삼성706길 (...|2023-04-08 22:45:56|김지원|\n|         15|pbkdf2_sha256$260...|2023-04-12 01:14:47|           0|eunyeongbag|      정남|       박|jiyeonson@example...|       0|        1|2021-07-11 00:23:26| 011-330-5568| 36|    남|           대전광역시 송파구 압구정로|2023-04-09 01:42:29|이미숙|\n|         98|pbkdf2_sha256$260...|2023-04-12 01:14:47|           1|     bhwang|      정자|       김|jiyeong96@example...|       1|        1|2022-07-01 10:00:46| 064-730-0917| 70|    남|      경기도 오산시 양재천47거리 (...|2023-04-09 09:22:24|이현지|\n|         48|pbkdf2_sha256$260...|2023-04-12 01:14:49|           0|gimyeonghyi|      영진|       김|seoyeongim@exampl...|       1|        1|2021-07-26 06:14:36|070-3486-1679| 36|    남|        서울특별시 양천구 도산대848가|2023-04-08 22:37:44|김성민|\n|         53|pbkdf2_sha256$260...|2023-04-12 01:14:47|           0|    boram14|      현우|       심| angeonu@example.net|       0|        1|2021-06-26 03:06:50| 018-374-0255| 26|    남|    전라남도 연천군 선릉거리 (정자...|2023-04-09 12:40:10|김성호|\n|         20|pbkdf2_sha256$260...|2023-04-12 01:14:53|           0| seongsugim|      숙자|       이|jongsu40@example.org|       1|        1|2021-09-30 23:57:50| 044-327-9208| 78|    여|            충청남도 포천시 가락405길|2023-04-09 06:44:53|강상호|\n|          9|pbkdf2_sha256$260...|2023-04-12 01:14:53|           1|     sujini|      종수|       김|yujingim@example.com|       0|        1|2021-06-12 06:37:16|070-7370-7911| 34|    남|  전라북도 가평군 봉은사로 (순옥이읍)|2023-04-08 21:01:51|박경숙|\n|         56|pbkdf2_sha256$260...|2023-04-12 01:14:46|           0| bagseongsu|      예준|       백|    jgim@example.org|       1|        1|2021-11-30 13:46:06| 064-786-8311| 38|    여|   전라남도 고양시 덕양구 압구정길...|2023-04-09 09:40:32|박준서|\n+-----------+--------------------+-------------------+------------+-----------+----------+---------+--------------------+--------+---------+-------------------+-------------+---+------+-------------------------------------+-------------------+------+\nonly showing top 20 rows\n",
					"output_type": "stream"
				}
			]
		},
		{
			"cell_type": "code",
			"source": "from datetime import datetime\nfrom pyspark.sql.functions import year, month, dayofmonth\nfrom pyspark.sql.functions import concat, col, lit, to_timestamp\n\ncurrent_datetime = datetime.now().strftime('%Y-%m-%d %H:%M:%S')\nfullDf = fullDf.withColumn(last_update_time,to_timestamp(col(last_update_time)))\nfullDf = (fullDf\n      .withColumn('year', year(col(last_update_time)))\n      .withColumn('month', month(col(last_update_time)))\n      .withColumn('day', dayofmonth(col(last_update_time)))\n     )\nfullDf = fullDf.withColumn('last_applied_date',to_timestamp(lit(current_datetime)))\n\n\n\n",
			"metadata": {
				"trusted": true,
				"tags": []
			},
			"execution_count": 93,
			"outputs": [
				{
					"name": "stdout",
					"text": "\n",
					"output_type": "stream"
				}
			]
		},
		{
			"cell_type": "code",
			"source": "# Incoming records violate the writer assumption that records are clustered by spec and by partition within each spec. Either cluster the incoming records or switch to fanout writers.\n# 아래 insert select 시 위의 에러가 발생하여 파티션 & 정렬함\nfullDf = fullDf.repartition(\"year\", \"month\", \"day\").sortWithinPartitions(\"year\", \"month\", \"day\")",
			"metadata": {
				"trusted": true,
				"tags": []
			},
			"execution_count": 94,
			"outputs": [
				{
					"name": "stdout",
					"text": "\n",
					"output_type": "stream"
				}
			]
		},
		{
			"cell_type": "code",
			"source": "fullDf.createOrReplaceTempView(f\"{source_table_name}_initial\")",
			"metadata": {
				"trusted": true,
				"tags": []
			},
			"execution_count": 95,
			"outputs": [
				{
					"name": "stdout",
					"text": "\n",
					"output_type": "stream"
				}
			]
		},
		{
			"cell_type": "code",
			"source": "fullDf.show()",
			"metadata": {
				"trusted": true,
				"tags": []
			},
			"execution_count": 96,
			"outputs": [
				{
					"name": "stdout",
					"text": "+-----------+--------------------+-------------------+------------+---------------+----------+---------+--------------------+--------+---------+-------------------+-------------+---+------+-----------------------------------+-------------------+------+----+-----+---+-------------------+\n|customer_id|            password|         last_login|is_superuser|       username|first_name|last_name|               email|is_staff|is_active|        date_joined| phone_number|age|gender|                            address|   last_update_time|  name|year|month|day|  last_applied_date|\n+-----------+--------------------+-------------------+------------+---------------+----------+---------+--------------------+--------+---------+-------------------+-------------+---+------+-----------------------------------+-------------------+------+----+-----+---+-------------------+\n|          2|pbkdf2_sha256$260...|2023-04-13 01:45:01|           1|            AWS|       AWS|      AWS|       aws@gmail.com|       1|        1|2023-04-09 03:15:42|010-1234-5678| 21|    남|                      서울시 강남구|2023-04-12 00:34:33|참석자|2023|    4| 12|2024-04-30 02:23:33|\n|         38|pbkdf2_sha256$260...|2023-04-12 01:14:51|           0|         isubin|      성수|       박|gimyeeun@example.org|       1|        1|2021-06-09 11:53:35| 044-323-7026| 61|    여|  울산광역시 구로구 테헤란9거리 ...|2023-04-08 21:07:22|엄도현|2023|    4|  8|2024-04-30 02:23:33|\n|          1|pbkdf2_sha256$260...|2023-04-09 06:04:06|           1|          admin|     admin|    admin|      test@gmail.com|       1|        1|2023-04-08 11:19:55|010-7572-2721| 41|    남| 서울시 영등포구 문래동 모아미래...|2023-04-08 11:22:14|홍길동|2023|    4|  8|2024-04-30 02:23:33|\n|         80|pbkdf2_sha256$260...|2023-04-12 01:14:47|           1|       coesunog|      수진|       이|byeongceol98@exam...|       1|        1|2021-05-04 05:58:46| 019-383-4890| 32|    여|   대전광역시 광진구 테헤란8길 (...|2023-04-08 13:06:24|최영환|2023|    4|  8|2024-04-30 02:23:33|\n|         76|pbkdf2_sha256$260...|2023-04-10 15:30:13|           1|       yunseojo|      정웅|       심|jieungim@example.net|       1|        1|2022-11-24 12:09:21| 041-952-4232| 79|    여|    세종특별자치시 구로구 서초대4가|2023-04-08 13:21:10|서서준|2023|    4|  8|2024-04-30 02:23:33|\n|         41|pbkdf2_sha256$260...|2023-04-12 01:14:51|           1|    hyeonjungim|      상현|       장| sunog74@example.org|       1|        1|2021-07-07 12:08:01| 033-027-3672| 21|    여|  서울특별시 강서구 논현거리 (예...|2023-04-08 19:36:31|이영희|2023|    4|  8|2024-04-30 02:23:33|\n|         79|pbkdf2_sha256$260...|2023-04-12 01:14:47|           1|        areum31|      상호|       박|ijeongnam@example...|       1|        1|2021-11-19 20:36:29| 043-358-6875| 75|    남|         전라남도 동두천시 서초대길|2023-04-08 18:38:51|김영숙|2023|    4|  8|2024-04-30 02:23:33|\n|         18|pbkdf2_sha256$260...|2023-04-12 01:14:53|           1|           ocoe|      미영|       이| junseoi@example.org|       0|        1|2021-04-25 09:07:05| 052-835-3710| 76|    남|           충청북도 논산시 반포대로|2023-04-08 21:04:16|김준영|2023|    4|  8|2024-04-30 02:23:33|\n|         52|pbkdf2_sha256$260...|2023-04-12 01:14:52|           1|             li|      영호|       박|sanghunsim@exampl...|       1|        1|2021-10-05 09:00:01|070-8340-6596| 43|    남|     제주특별자치도 화성시 오금거리|2023-04-08 18:53:39|이수진|2023|    4|  8|2024-04-30 02:23:33|\n|         83|pbkdf2_sha256$260...|2023-04-12 01:14:49|           1|   gyeonghyigim|      경수|       김|namsugja@example.org|       0|        1|2022-04-15 06:33:21|010-8071-2243| 27|    여|      대구광역시 강북구 테헤란700길|2023-04-08 19:45:31|장지현|2023|    4|  8|2024-04-30 02:23:33|\n|         55|pbkdf2_sha256$260...|2023-04-12 01:14:53|           0|seonghyeonhwang|      준영|       김|jeongunggim@examp...|       0|        1|2022-03-27 14:12:09| 019-585-0960| 68|    여| 제주특별자치도 안산시 오금6거리...|2023-04-08 14:49:07|곽경희|2023|    4|  8|2024-04-30 02:23:33|\n|         82|pbkdf2_sha256$260...|2023-04-12 01:14:52|           1|            ogo|      병철|       안|    sgim@example.net|       0|        1|2022-07-04 19:04:35| 053-072-9599| 35|    여|   경상북도 안성시 강남대087거리...|2023-04-08 18:09:53|권서준|2023|    4|  8|2024-04-30 02:23:33|\n|         45|pbkdf2_sha256$260...|2023-04-12 01:14:47|           0|      eunjigang|      민준|       김|      po@example.com|       0|        1|2022-06-18 23:11:35| 044-286-1205| 50|    남|   충청북도 오산시 서초대4로 (서...|2023-04-08 19:11:04|신성훈|2023|    4|  8|2024-04-30 02:23:33|\n|         67|pbkdf2_sha256$260...|2023-04-12 01:14:52|           0|     mijeongbag|      상훈|       이|jeongja14@example...|       1|        1|2021-06-20 04:02:44| 062-733-0363| 30|    여| 강원도 고양시 일산동구 양재천거...|2023-04-08 23:59:50|강경숙|2023|    4|  8|2024-04-30 02:23:33|\n|         68|pbkdf2_sha256$260...|2023-04-12 01:14:47|           1|  eunjeonggweon|      준서|       김|gimcunja@example.com|       0|        1|2021-07-18 06:56:10| 017-181-6085| 22|    남|            경기도 홍천군 삼성538가|2023-04-08 19:23:58|이현우|2023|    4|  8|2024-04-30 02:23:33|\n|         46|pbkdf2_sha256$260...|2023-04-10 15:30:13|           1|        yujin78|      현숙|       이|jeongung62@exampl...|       1|        1|2022-03-30 00:31:34| 063-251-8810| 72|    남|세종특별자치시 중랑구 백제고분로...|2023-04-08 14:19:37|김숙자|2023|    4|  8|2024-04-30 02:23:33|\n|         21|pbkdf2_sha256$260...|2023-04-12 01:14:54|           0|     yeongjin27|      수빈|       이|gimjunho@example.org|       1|        1|2023-01-11 05:12:08| 042-374-8901| 50|    남|     세종특별자치시 양천구 선릉거리|2023-04-08 16:48:00|김보람|2023|    4|  8|2024-04-30 02:23:33|\n|         25|pbkdf2_sha256$260...|2023-04-10 15:30:13|           0|  yunseonghyeon|      주원|       김|    ggim@example.org|       0|        1|2022-03-17 06:15:27| 018-585-2449| 45|    남|  광주광역시 동대문구 압구정68거...|2023-04-08 20:26:56|김성진|2023|    4|  8|2024-04-30 02:23:33|\n|         54|pbkdf2_sha256$260...|2023-04-12 01:14:48|           0|    gimeunjeong|      상훈|       김|    zgim@example.com|       0|        1|2021-07-31 07:31:07| 041-808-3610| 45|    남|  충청남도 고양시 일산서구 삼성5...|2023-04-08 15:44:21|김민수|2023|    4|  8|2024-04-30 02:23:33|\n|         13|pbkdf2_sha256$260...|2023-04-12 01:14:53|           1|       seoyun68|      주원|       권|yeonghogim@exampl...|       0|        1|2022-07-13 23:53:53| 011-169-4466| 66|    여|         대구광역시 도봉구 잠실62로|2023-04-08 17:08:38|심영길|2023|    4|  8|2024-04-30 02:23:33|\n+-----------+--------------------+-------------------+------------+---------------+----------+---------+--------------------+--------+---------+-------------------+-------------+---+------+-----------------------------------+-------------------+------+----+-----+---+-------------------+\nonly showing top 20 rows\n",
					"output_type": "stream"
				}
			]
		},
		{
			"cell_type": "code",
			"source": "spark.sql(f\"CREATE DATABASE IF NOT EXISTS {catalog_name}.{database_name}\")",
			"metadata": {
				"trusted": true,
				"tags": []
			},
			"execution_count": 97,
			"outputs": [
				{
					"name": "stdout",
					"text": "DataFrame[]\n",
					"output_type": "stream"
				}
			]
		},
		{
			"cell_type": "code",
			"source": "existing_tables = spark.sql(f\"SHOW TABLES IN {catalog_name}.{database_name};\")",
			"metadata": {
				"trusted": true,
				"tags": []
			},
			"execution_count": 98,
			"outputs": [
				{
					"name": "stdout",
					"text": "\n",
					"output_type": "stream"
				}
			]
		},
		{
			"cell_type": "code",
			"source": "df_existing_tables = existing_tables.select('tableName').rdd.flatMap(lambda x:x).collect()",
			"metadata": {
				"trusted": true,
				"tags": []
			},
			"execution_count": 99,
			"outputs": [
				{
					"name": "stdout",
					"text": "\n",
					"output_type": "stream"
				}
			]
		},
		{
			"cell_type": "code",
			"source": "spark.sql(f\"\"\"DROP TABLE {catalog_name}.{database_name}.{iceberg_table_name}\"\"\")",
			"metadata": {
				"trusted": true,
				"tags": []
			},
			"execution_count": 84,
			"outputs": [
				{
					"name": "stdout",
					"text": "DataFrame[]\n",
					"output_type": "stream"
				}
			]
		},
		{
			"cell_type": "code",
			"source": "spark.sql(f\"\"\"CREATE TABLE IF NOT EXISTS {catalog_name}.{database_name}.{iceberg_table_name}\n            USING iceberg \n            PARTITIONED BY (year, month, day)\n            as (SELECT * from {source_table_name}_initial)\"\"\")",
			"metadata": {
				"trusted": true,
				"tags": []
			},
			"execution_count": 100,
			"outputs": [
				{
					"name": "stdout",
					"text": "DataFrame[]\n",
					"output_type": "stream"
				}
			]
		},
		{
			"cell_type": "code",
			"source": "",
			"metadata": {},
			"execution_count": null,
			"outputs": []
		},
		{
			"cell_type": "code",
			"source": "",
			"metadata": {},
			"execution_count": null,
			"outputs": []
		},
		{
			"cell_type": "code",
			"source": "",
			"metadata": {},
			"execution_count": null,
			"outputs": []
		},
		{
			"cell_type": "code",
			"source": "",
			"metadata": {},
			"execution_count": null,
			"outputs": []
		},
		{
			"cell_type": "code",
			"source": "",
			"metadata": {},
			"execution_count": null,
			"outputs": []
		},
		{
			"cell_type": "code",
			"source": "",
			"metadata": {},
			"execution_count": null,
			"outputs": []
		},
		{
			"cell_type": "code",
			"source": "",
			"metadata": {},
			"execution_count": null,
			"outputs": []
		},
		{
			"cell_type": "code",
			"source": "",
			"metadata": {},
			"execution_count": null,
			"outputs": []
		},
		{
			"cell_type": "code",
			"source": "",
			"metadata": {},
			"execution_count": null,
			"outputs": []
		},
		{
			"cell_type": "code",
			"source": "",
			"metadata": {},
			"execution_count": null,
			"outputs": []
		},
		{
			"cell_type": "code",
			"source": "",
			"metadata": {},
			"execution_count": null,
			"outputs": []
		},
		{
			"cell_type": "code",
			"source": "",
			"metadata": {},
			"execution_count": null,
			"outputs": []
		}
	]
}